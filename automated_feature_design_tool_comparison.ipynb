{
 "cells": [
  {
   "cell_type": "markdown",
   "metadata": {},
   "source": [
    "# Comparing Automated Feature Design Tools with the developed Methodology.\n",
    "\n",
    "Tool tested: \n",
    "- TsFresh + EN\n",
    "- AutoFeat"
   ]
  },
  {
   "cell_type": "code",
   "execution_count": 1,
   "metadata": {},
   "outputs": [],
   "source": [
    "import numpy as np \n",
    "import pandas as pd\n",
    "import matplotlib.pyplot as plt \n",
    "\n",
    "import sklearn\n",
    "from sklearn.model_selection import train_test_split\n",
    "\n",
    "from autofeat import FeatureSelector, AutoFeatRegressor\n",
    "\n",
    "import tsfresh\n",
    "from tsfresh.examples.robot_execution_failures import download_robot_execution_failures, \\\n",
    "    load_robot_execution_failures\n",
    "from tsfresh import extract_features, extract_relevant_features, select_features\n",
    "from tsfresh.utilities.dataframe_functions import impute\n",
    "from tsfresh.feature_extraction import ComprehensiveFCParameters\n",
    "\n",
    "import random\n",
    "# Initialize the random seed to ensure reproducibility of the results in the paper\n",
    "random.seed(42)\n",
    "\n",
    "# Custom functions\n",
    "import src.basis as basis\n",
    "from src.data_gen import generate_target_values\n",
    "\n",
    "from src.helper import construct_data\n",
    "from src.helper import optimise_pls_cv\n"
   ]
  },
  {
   "cell_type": "code",
   "execution_count": 2,
   "metadata": {},
   "outputs": [],
   "source": [
    "# Varibles to set. \n",
    "# Paths are OS dependent.\n",
    "\n",
    "# Data path\n",
    "data_path = './data/'\n",
    "\n",
    "# Shall plots be saved?\n",
    "save_plots = False\n",
    "\n",
    "# Path to save plots\n",
    "# save_plot_path = './../Nullspace/Figures/' \n",
    "save_plot_path = './results/' \n",
    "\n",
    "# plt.style.use('./styles/plots.mplstyle')\n",
    "\n",
    "# Plot additional visualizations.\n",
    "extra_plots = 0\n",
    "\n",
    "# Load data that was used for the publication\n",
    "# Is set to true, the data for the plots will be loaded from csv files. \n",
    "# If set to false the data will be generated and figures might differ slightly due to the random structure of the noise.\n",
    "load_response = True\n",
    "\n",
    "# If load data=False and save_data=True, the csv files will be replaced with the data genearated during this run.\n",
    "save_response = False"
   ]
  },
  {
   "cell_type": "code",
   "execution_count": 3,
   "metadata": {},
   "outputs": [],
   "source": [
    "# Import data\n",
    "# Load the LFP Dataset\n",
    "lfp_df = pd.read_csv(data_path + 'lfp_slim.csv', index_col=0)\n",
    "\n",
    "X_lfp = np.array(lfp_df.iloc[:, 0:1000])    \n",
    "X_lfp = X_lfp[:, ::-1]\n",
    "y_lfp_true = np.array(lfp_df.iloc[:, 1000])\n",
    "x_lfp = np.linspace(2.0, 3.5, 1000)\n",
    "\n",
    "# Train test split according to Severson et al. 2019, Nature Energy\n",
    "X_lfp_train = np.array(X_lfp[lfp_df.iloc[:, 1002]==0, :])\n",
    "y_lfp_train_true = np.array(y_lfp_true[lfp_df.iloc[:, 1002]==0])\n",
    "X_lfp_test = np.array(X_lfp[lfp_df.iloc[:, 1002]==1, :])\n",
    "y_lfp_test_true = np.array(y_lfp_true[lfp_df.iloc[:, 1002]==1])\n",
    "X_lfp_test2 = np.array(X_lfp[lfp_df.iloc[:, 1002]==2, :])\n",
    "y_lfp_test2_true = np.array(y_lfp_true[lfp_df.iloc[:, 1002]==2])\n",
    "\n",
    "y_lfp_train_syn = np.zeros(X_lfp_train.shape[0])\n",
    "mean_function = lambda a: np.mean(a)\n",
    "var_function = lambda a: np.var(a)\n",
    "mean_reg_coef_lfp = (1/X_lfp_train.shape[1]) * np.ones(X_lfp_train.shape[1])\n",
    "\n",
    "if not load_response: \n",
    "    y_lfp_train_syn = generate_target_values(X_lfp_train, mean_function, percentage_range_x_to_t=[0,1])\n",
    "    # Contruct data object\n",
    "    dml_lfp_syn = basis.SynMLData(None, None).place_X_y(X_lfp_train, x_lfp, y_lfp_train_syn)\n",
    "    # Add noise to target values\n",
    "    dml_lfp_syn = dml_lfp_syn.add_wgn(add_noise_X=False, add_noise_y=True, snr_y=50)\n",
    "    if save_response: \n",
    "        np.savetxt(\n",
    "            data_path + 'lfp_y_mean.csv', dml_lfp_syn.y, delimiter=\",\", \n",
    "            header='Sample Mean reposne for the LFP Data')\n",
    "else:\n",
    "    dml_lfp_syn = basis.SynMLData(None, None).place_X_y(\n",
    "        X_lfp_train, x_lfp, np.loadtxt(data_path + 'lfp_y_mean.csv', skiprows=1, delimiter=','))"
   ]
  },
  {
   "cell_type": "code",
   "execution_count": 4,
   "metadata": {},
   "outputs": [],
   "source": [
    "def addnoise(y, strength):\n",
    "    yn = y + strength*y.std()*np.random.randn(len(y))\n",
    "    return yn"
   ]
  },
  {
   "cell_type": "code",
   "execution_count": 5,
   "metadata": {},
   "outputs": [],
   "source": [
    "X = X_lfp_train\n",
    "y1 = generate_target_values(X, mean_function, percentage_range_x_to_t=[0,1])\n",
    "y1n = addnoise(y1, 0.1)\n",
    "\n",
    "y2 = generate_target_values(X, var_function, percentage_range_x_to_t=[0,1])\n",
    "y2n = addnoise(y2, 0.1)\n",
    "\n",
    "y3 = generate_target_values(X, var_function, percentage_range_x_to_t=[0.3,6])\n",
    "y3n = addnoise(y3, 0.1)"
   ]
  },
  {
   "cell_type": "code",
   "execution_count": 14,
   "metadata": {},
   "outputs": [],
   "source": [
    "# Results of Auto Tools\n",
    "steps=1\n",
    "afreg = AutoFeatRegressor(verbose=0, feateng_steps=steps)\n",
    "df = afreg.fit_transform(X, np.log(y_lfp_train_true))"
   ]
  },
  {
   "cell_type": "code",
   "execution_count": 15,
   "metadata": {},
   "outputs": [
    {
     "name": "stdout",
     "output_type": "stream",
     "text": [
      "## Final Train R^2: 0.5707\n",
      "## Final Test 1 R^2: 0.4679\n",
      "## Final Test 2 R^2: -45.6938\n"
     ]
    }
   ],
   "source": [
    "r2 = afreg.score(X, np.log(y_lfp_train_true))\n",
    "print(\"## Final Train R^2: %.4f\" % r2)\n",
    "r2 = afreg.score(X_lfp_test, np.log(y_lfp_test_true))\n",
    "print(\"## Final Test 1 R^2: %.4f\" % r2)\n",
    "r2 = afreg.score(X_lfp_test2, np.log(y_lfp_test2_true))\n",
    "print(\"## Final Test 2 R^2: %.4f\" % r2)"
   ]
  },
  {
   "cell_type": "code",
   "execution_count": 17,
   "metadata": {},
   "outputs": [
    {
     "data": {
      "text/plain": [
       "<matplotlib.collections.PathCollection at 0x7f96aa024dc0>"
      ]
     },
     "execution_count": 17,
     "metadata": {},
     "output_type": "execute_result"
    },
    {
     "data": {
      "image/png": "[encoded data removed]",
      "text/plain": [
       "<Figure size 432x288 with 1 Axes>"
      ]
     },
     "metadata": {
      "needs_background": "light"
     },
     "output_type": "display_data"
    }
   ],
   "source": [
    "# Autsch! Thats quite horrible. High-dimensions suck apparently big time!\n",
    "plt.figure()\n",
    "plt.scatter(afreg.predict(X_lfp_test), y_lfp_test_true, s=2)"
   ]
  },
  {
   "cell_type": "code",
   "execution_count": 18,
   "metadata": {},
   "outputs": [
    {
     "data": {
      "text/plain": [
       "<matplotlib.collections.PathCollection at 0x7f96aa02b220>"
      ]
     },
     "execution_count": 18,
     "metadata": {},
     "output_type": "execute_result"
    },
    {
     "data": {
      "image/png": "[encoded data removed]",
      "text/plain": [
       "<Figure size 432x288 with 1 Axes>"
      ]
     },
     "metadata": {
      "needs_background": "light"
     },
     "output_type": "display_data"
    }
   ],
   "source": [
    "plt.figure()\n",
    "plt.scatter(afreg.predict(X_lfp_test2), y_lfp_test2_true, s=2)\n",
    "#cplt.title(\"%i FE steps (R^2: %.4f; %i new features)\" % (steps, r2, len(afreg.new_feat_cols_)))"
   ]
  },
  {
   "cell_type": "code",
   "execution_count": null,
   "metadata": {},
   "outputs": [
    {
     "data": {
      "text/plain": [
       "array([-0.00410672, -0.00747333, -0.01113769, -0.01654914, -0.00839705,\n",
       "       -0.0110246 , -0.01334155, -0.02010342, -0.03059094, -0.01386938,\n",
       "       -0.01774514, -0.01674176, -0.01780922, -0.02076346, -0.01604281,\n",
       "       -0.02091984, -0.02674492, -0.01261606, -0.02058562, -0.02931673,\n",
       "       -0.07143547, -0.02462706, -0.03224838, -0.03946971, -0.02771648,\n",
       "       -0.03712465, -0.02429798, -0.03142333, -0.02619873, -0.02739028,\n",
       "       -0.02660757, -0.02291284, -0.01761595, -0.02182271, -0.01969316,\n",
       "       -0.02337286, -0.02333222, -0.02541829, -0.02571441, -0.02839477,\n",
       "       -0.02087656])"
      ]
     },
     "execution_count": 6,
     "metadata": {},
     "output_type": "execute_result"
    }
   ],
   "source": [
    "dml_lfp_syn.y"
   ]
  },
  {
   "cell_type": "code",
   "execution_count": 19,
   "metadata": {},
   "outputs": [],
   "source": [
    "# TsFresh\n",
    "from tsfresh import extract_features, extract_relevant_features, select_features"
   ]
  },
  {
   "cell_type": "code",
   "execution_count": 21,
   "metadata": {},
   "outputs": [],
   "source": [
    "X = pd.DataFrame(X)"
   ]
  },
  {
   "cell_type": "code",
   "execution_count": 22,
   "metadata": {},
   "outputs": [
    {
     "ename": "ValueError",
     "evalue": "A value for column_id needs to be supplied",
     "output_type": "error",
     "traceback": [
      "\u001b[0;31m---------------------------------------------------------------------------\u001b[0m",
      "\u001b[0;31mValueError\u001b[0m                                Traceback (most recent call last)",
      "\u001b[0;32m/var/folders/ht/42wc4pfd5y78cjfbdt_5qljr0000gn/T/ipykernel_64583/2634198436.py\u001b[0m in \u001b[0;36m<module>\u001b[0;34m\u001b[0m\n\u001b[0;32m----> 1\u001b[0;31m \u001b[0mX_tsfresh\u001b[0m \u001b[0;34m=\u001b[0m \u001b[0mextract_features\u001b[0m\u001b[0;34m(\u001b[0m\u001b[0mX\u001b[0m\u001b[0;34m)\u001b[0m\u001b[0;34m\u001b[0m\u001b[0;34m\u001b[0m\u001b[0m\n\u001b[0m",
      "\u001b[0;32m~/opt/anaconda3/lib/python3.9/site-packages/tsfresh/feature_extraction/extraction.py\u001b[0m in \u001b[0;36mextract_features\u001b[0;34m(timeseries_container, default_fc_parameters, kind_to_fc_parameters, column_id, column_sort, column_kind, column_value, chunksize, n_jobs, show_warnings, disable_progressbar, impute_function, profile, profiling_filename, profiling_sorting, distributor, pivot)\u001b[0m\n\u001b[1;32m    162\u001b[0m             \u001b[0mwarnings\u001b[0m\u001b[0;34m.\u001b[0m\u001b[0msimplefilter\u001b[0m\u001b[0;34m(\u001b[0m\u001b[0;34m\"default\"\u001b[0m\u001b[0;34m)\u001b[0m\u001b[0;34m\u001b[0m\u001b[0;34m\u001b[0m\u001b[0m\n\u001b[1;32m    163\u001b[0m \u001b[0;34m\u001b[0m\u001b[0m\n\u001b[0;32m--> 164\u001b[0;31m         result = _do_extraction(\n\u001b[0m\u001b[1;32m    165\u001b[0m             \u001b[0mdf\u001b[0m\u001b[0;34m=\u001b[0m\u001b[0mtimeseries_container\u001b[0m\u001b[0;34m,\u001b[0m\u001b[0;34m\u001b[0m\u001b[0;34m\u001b[0m\u001b[0m\n\u001b[1;32m    166\u001b[0m             \u001b[0mcolumn_id\u001b[0m\u001b[0;34m=\u001b[0m\u001b[0mcolumn_id\u001b[0m\u001b[0;34m,\u001b[0m\u001b[0;34m\u001b[0m\u001b[0;34m\u001b[0m\u001b[0m\n",
      "\u001b[0;32m~/opt/anaconda3/lib/python3.9/site-packages/tsfresh/feature_extraction/extraction.py\u001b[0m in \u001b[0;36m_do_extraction\u001b[0;34m(df, column_id, column_value, column_kind, column_sort, default_fc_parameters, kind_to_fc_parameters, n_jobs, chunk_size, disable_progressbar, show_warnings, distributor, pivot)\u001b[0m\n\u001b[1;32m    258\u001b[0m     \"\"\"\n\u001b[1;32m    259\u001b[0m \u001b[0;34m\u001b[0m\u001b[0m\n\u001b[0;32m--> 260\u001b[0;31m     \u001b[0mdata\u001b[0m \u001b[0;34m=\u001b[0m \u001b[0mto_tsdata\u001b[0m\u001b[0;34m(\u001b[0m\u001b[0mdf\u001b[0m\u001b[0;34m,\u001b[0m \u001b[0mcolumn_id\u001b[0m\u001b[0;34m,\u001b[0m \u001b[0mcolumn_kind\u001b[0m\u001b[0;34m,\u001b[0m \u001b[0mcolumn_value\u001b[0m\u001b[0;34m,\u001b[0m \u001b[0mcolumn_sort\u001b[0m\u001b[0;34m)\u001b[0m\u001b[0;34m\u001b[0m\u001b[0;34m\u001b[0m\u001b[0m\n\u001b[0m\u001b[1;32m    261\u001b[0m \u001b[0;34m\u001b[0m\u001b[0m\n\u001b[1;32m    262\u001b[0m     \u001b[0;32mif\u001b[0m \u001b[0mdistributor\u001b[0m \u001b[0;32mis\u001b[0m \u001b[0;32mNone\u001b[0m\u001b[0;34m:\u001b[0m\u001b[0;34m\u001b[0m\u001b[0;34m\u001b[0m\u001b[0m\n",
      "\u001b[0;32m~/opt/anaconda3/lib/python3.9/site-packages/tsfresh/feature_extraction/data.py\u001b[0m in \u001b[0;36mto_tsdata\u001b[0;34m(df, column_id, column_kind, column_value, column_sort)\u001b[0m\n\u001b[1;32m    472\u001b[0m                 \u001b[0;32mreturn\u001b[0m \u001b[0mWideTsFrameAdapter\u001b[0m\u001b[0;34m(\u001b[0m\u001b[0mdf\u001b[0m\u001b[0;34m,\u001b[0m \u001b[0mcolumn_id\u001b[0m\u001b[0;34m,\u001b[0m \u001b[0mcolumn_sort\u001b[0m\u001b[0;34m,\u001b[0m \u001b[0;34m[\u001b[0m\u001b[0mcolumn_value\u001b[0m\u001b[0;34m]\u001b[0m\u001b[0;34m)\u001b[0m\u001b[0;34m\u001b[0m\u001b[0;34m\u001b[0m\u001b[0m\n\u001b[1;32m    473\u001b[0m             \u001b[0;32melse\u001b[0m\u001b[0;34m:\u001b[0m\u001b[0;34m\u001b[0m\u001b[0;34m\u001b[0m\u001b[0m\n\u001b[0;32m--> 474\u001b[0;31m                 \u001b[0;32mreturn\u001b[0m \u001b[0mWideTsFrameAdapter\u001b[0m\u001b[0;34m(\u001b[0m\u001b[0mdf\u001b[0m\u001b[0;34m,\u001b[0m \u001b[0mcolumn_id\u001b[0m\u001b[0;34m,\u001b[0m \u001b[0mcolumn_sort\u001b[0m\u001b[0;34m)\u001b[0m\u001b[0;34m\u001b[0m\u001b[0;34m\u001b[0m\u001b[0m\n\u001b[0m\u001b[1;32m    475\u001b[0m \u001b[0;34m\u001b[0m\u001b[0m\n\u001b[1;32m    476\u001b[0m     \u001b[0;32melif\u001b[0m \u001b[0misinstance\u001b[0m\u001b[0;34m(\u001b[0m\u001b[0mdf\u001b[0m\u001b[0;34m,\u001b[0m \u001b[0mdict\u001b[0m\u001b[0;34m)\u001b[0m\u001b[0;34m:\u001b[0m\u001b[0;34m\u001b[0m\u001b[0;34m\u001b[0m\u001b[0m\n",
      "\u001b[0;32m~/opt/anaconda3/lib/python3.9/site-packages/tsfresh/feature_extraction/data.py\u001b[0m in \u001b[0;36m__init__\u001b[0;34m(self, df, column_id, column_sort, value_columns)\u001b[0m\n\u001b[1;32m    177\u001b[0m         \"\"\"\n\u001b[1;32m    178\u001b[0m         \u001b[0;32mif\u001b[0m \u001b[0mcolumn_id\u001b[0m \u001b[0;32mis\u001b[0m \u001b[0;32mNone\u001b[0m\u001b[0;34m:\u001b[0m\u001b[0;34m\u001b[0m\u001b[0;34m\u001b[0m\u001b[0m\n\u001b[0;32m--> 179\u001b[0;31m             \u001b[0;32mraise\u001b[0m \u001b[0mValueError\u001b[0m\u001b[0;34m(\u001b[0m\u001b[0;34m\"A value for column_id needs to be supplied\"\u001b[0m\u001b[0;34m)\u001b[0m\u001b[0;34m\u001b[0m\u001b[0;34m\u001b[0m\u001b[0m\n\u001b[0m\u001b[1;32m    180\u001b[0m \u001b[0;34m\u001b[0m\u001b[0m\n\u001b[1;32m    181\u001b[0m         \u001b[0m_check_nan\u001b[0m\u001b[0;34m(\u001b[0m\u001b[0mdf\u001b[0m\u001b[0;34m,\u001b[0m \u001b[0mcolumn_id\u001b[0m\u001b[0;34m)\u001b[0m\u001b[0;34m\u001b[0m\u001b[0;34m\u001b[0m\u001b[0m\n",
      "\u001b[0;31mValueError\u001b[0m: A value for column_id needs to be supplied"
     ]
    }
   ],
   "source": [
    "X_tsfresh = extract_features(X)"
   ]
  },
  {
   "cell_type": "code",
   "execution_count": 25,
   "metadata": {},
   "outputs": [
    {
     "data": {
      "text/plain": [
       "RangeIndex(start=0, stop=41, step=1)"
      ]
     },
     "execution_count": 25,
     "metadata": {},
     "output_type": "execute_result"
    }
   ],
   "source": [
    "X.index"
   ]
  },
  {
   "cell_type": "code",
   "execution_count": null,
   "metadata": {},
   "outputs": [],
   "source": []
  }
 ],
 "metadata": {
  "kernelspec": {
   "display_name": "Python 3.10.0",
   "language": "python",
   "name": "python3"
  },
  "language_info": {
   "codemirror_mode": {
    "name": "ipython",
    "version": 3
   },
   "file_extension": ".py",
   "mimetype": "text/x-python",
   "name": "python",
   "nbconvert_exporter": "python",
   "pygments_lexer": "ipython3",
   "version": "3.10.0"
  },
  "orig_nbformat": 4,
  "vscode": {
   "interpreter": {
    "hash": "8056bf4462fd49b8d96cd55dea3fe35c7f0f28ae33993735e755540e55953e1c"
   }
  }
 },
 "nbformat": 4,
 "nbformat_minor": 2
}
