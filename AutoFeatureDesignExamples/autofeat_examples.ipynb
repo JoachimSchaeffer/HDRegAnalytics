{
 "cells": [
  {
   "cell_type": "code",
   "execution_count": 1,
   "metadata": {},
   "outputs": [],
   "source": [
    "import numpy as np\n",
    "import pandas as pd\n",
    "import matplotlib.pyplot as plt\n",
    "\n",
    "from autofeat import FeatureSelector, AutoFeatRegressor\n",
    "\n",
    "%matplotlib inline\n",
    "%load_ext autoreload\n",
    "%autoreload 2"
   ]
  },
  {
   "cell_type": "markdown",
   "metadata": {},
   "source": [
    "## Feature Selection"
   ]
  },
  {
   "cell_type": "code",
   "execution_count": 2,
   "metadata": {},
   "outputs": [
    {
     "name": "stdout",
     "output_type": "stream",
     "text": [
      "[featsel] Scaling data...done.\n",
      "[featsel] Feature selection run 1/5\n",
      "[featsel] Feature selection run 2/5\n",
      "[featsel] Feature selection run 3/5\n",
      "[featsel] Feature selection run 4/5\n",
      "[featsel] Feature selection run 5/5\n",
      "[featsel] 3 features after 5 feature selection runs\n",
      "[featsel] 3 features after correlation filtering\n",
      "[featsel] 3 features after noise filtering\n",
      "Index(['x1', 'eng6', 'eng7'], dtype='object')\n"
     ]
    }
   ],
   "source": [
    "# generate some toy data\n",
    "np.random.seed(10)\n",
    "x1 = np.random.rand(1000)\n",
    "x2 = np.random.randn(1000)\n",
    "x3 = np.random.rand(1000)\n",
    "x4 = np.random.randn(1000)\n",
    "x5 = np.random.rand(1000)\n",
    "target = 2 + 15*x1 + 3/(x2 - 1/x3) + 5*(x2 + np.log(x1))**3\n",
    "X = np.vstack([x1, x2, x3, x4, x5, 1/(x2 - 1/x3), (x2 + np.log(x1))**3]).T\n",
    "fsel = FeatureSelector(verbose=1)\n",
    "new_X = fsel.fit_transform(pd.DataFrame(X, columns=[\"x1\", \"x2\", \"x3\", \"x4\", \"x5\", \"eng6\", \"eng7\"]), target)\n",
    "# should contain [\"x1\", \"eng6\", \"eng7\"]\n",
    "print(new_X.columns)"
   ]
  },
  {
   "cell_type": "markdown",
   "metadata": {},
   "source": [
    "## AutoFeat"
   ]
  },
  {
   "cell_type": "code",
   "execution_count": 3,
   "metadata": {},
   "outputs": [],
   "source": [
    "# generate some toy data\n",
    "np.random.seed(10)\n",
    "x1 = np.random.rand(1000)\n",
    "x2 = np.random.randn(1000)\n",
    "x3 = np.random.rand(1000)\n",
    "target = 2 + 15*x1 + 3/(x2 - 1/x3) + 5*(x2 + np.log(x1))**3\n",
    "target_noisy = target + 0.01*target.std()*np.random.randn(1000)\n",
    "target_very_noisy = target + 0.1*target.std()*np.random.randn(1000)\n",
    "X = np.vstack([x1, x2, x3]).T\n",
    "df_org = pd.DataFrame(X, columns=[\"x1\", \"x2\", \"x3\"])"
   ]
  },
  {
   "cell_type": "markdown",
   "metadata": {},
   "source": [
    "### Effect of number of feature engineering steps"
   ]
  },
  {
   "cell_type": "code",
   "execution_count": 4,
   "metadata": {},
   "outputs": [
    {
     "name": "stdout",
     "output_type": "stream",
     "text": [
      "### AutoFeat with 0 feateng_steps\n",
      "[AutoFeat] The 0 step feature engineering process could generate up to 3 features.\n",
      "[AutoFeat] With 1000 data points this new feature matrix would use about 0.00 gb of space.\n",
      "[feateng] Warning: no features generated for max_steps < 1.\n",
      "[featsel] Scaling data...done.\n",
      "[featsel] Feature selection run 1/5\n",
      "[featsel] Feature selection run 2/5\n",
      "[featsel] Feature selection run 3/5\n",
      "[featsel] Feature selection run 4/5\n",
      "[featsel] Feature selection run 5/5\n",
      "[featsel] 2 features after 5 feature selection runs\n",
      "[featsel] 2 features after correlation filtering\n",
      "[featsel] 2 features after noise filtering\n",
      "[AutoFeat] Final dataframe with 3 feature columns (0 new).\n",
      "[AutoFeat] Training final regression model.\n",
      "[AutoFeat] Trained model: largest coefficients:\n",
      "-144.52306261659768\n",
      "214.075392 * x1\n",
      "41.431441 * x2\n",
      "[AutoFeat] Final score: 0.3310\n",
      "## Final R^2: 0.3310\n",
      "### AutoFeat with 1 feateng_steps\n",
      "[AutoFeat] The 1 step feature engineering process could generate up to 21 features.\n",
      "[AutoFeat] With 1000 data points this new feature matrix would use about 0.00 gb of space.\n",
      "[feateng] Step 1: transformation of original features\n",
      "[feateng] Generated 17 transformed features from 3 original features - done.\n",
      "[feateng] Generated altogether 17 new features in 1 steps\n",
      "[feateng] Removing correlated features, as well as additions at the highest level\n",
      "[feateng] Generated a total of 11 additional features\n",
      "[featsel] Scaling data...done.\n",
      "[featsel] Feature selection run 1/5\n",
      "[featsel] Feature selection run 2/5\n",
      "[featsel] Feature selection run 3/5\n",
      "[featsel] Feature selection run 4/5\n",
      "[featsel] Feature selection run 5/5\n",
      "[featsel] 10 features after 5 feature selection runs\n",
      "[featsel] 9 features after correlation filtering\n",
      "[featsel] 7 features after noise filtering\n",
      "[AutoFeat] Computing 5 new features.\n",
      "[AutoFeat]     5/    5 new features ...done.\n",
      "[AutoFeat] Final dataframe with 8 feature columns (5 new).\n",
      "[AutoFeat] Training final regression model.\n",
      "[AutoFeat] Trained model: largest coefficients:\n",
      "187.5838449326568\n",
      "-178.953822 * x1\n",
      "114.963633 * log(x1)\n",
      "31.810387 * x2\n",
      "-15.080995 * x2**2\n",
      "3.817436 * x2**3\n",
      "-3.462696 * log(x3)\n",
      "-1.106230 * 1/x1\n",
      "[AutoFeat] Final score: 0.7517\n",
      "[AutoFeat] Computing 5 new features.\n",
      "[AutoFeat]     5/    5 new features ...done.\n",
      "## Final R^2: 0.7517\n",
      "[AutoFeat] Computing 5 new features.\n",
      "[AutoFeat]     5/    5 new features ...done.\n",
      "### AutoFeat with 2 feateng_steps\n",
      "[AutoFeat] The 2 step feature engineering process could generate up to 231 features.\n",
      "[AutoFeat] With 1000 data points this new feature matrix would use about 0.00 gb of space.\n",
      "[feateng] Step 1: transformation of original features\n",
      "[feateng] Generated 17 transformed features from 3 original features - done.\n",
      "[feateng] Step 2: first combination of features\n",
      "[feateng] Generated 178 feature combinations from 190 original feature tuples - done.\n",
      "[feateng] Generated altogether 196 new features in 2 steps\n",
      "[feateng] Removing correlated features, as well as additions at the highest level\n",
      "[feateng] Generated a total of 152 additional features\n",
      "[featsel] Scaling data...done.\n",
      "[featsel] Feature selection run 1/5\n",
      "[featsel] Feature selection run 2/5\n",
      "[featsel] Feature selection run 3/5\n",
      "[featsel] Feature selection run 4/5\n",
      "[featsel] Feature selection run 5/5\n",
      "[featsel] 48 features after 5 feature selection runs\n",
      "[featsel] 36 features after correlation filtering\n",
      "[featsel] 32 features after noise filtering\n",
      "[AutoFeat] Computing 30 new features.\n",
      "[AutoFeat]    30/   30 new features ...done.\n",
      "[AutoFeat] Final dataframe with 33 feature columns (30 new).\n",
      "[AutoFeat] Training final regression model.\n",
      "[AutoFeat] Trained model: largest coefficients:\n",
      "178.18251145551147\n",
      "-281.196058 * x1**3*log(x1)\n",
      "270.902231 * x3**3*log(x3)\n",
      "225.773678 * x1**2*log(x1)\n",
      "-210.919088 * x3**2*log(x3)\n",
      "-142.798225 * x1\n",
      "-105.185160 * x2\n",
      "-81.235351 * x2*log(x1)\n",
      "-65.813740 * 1/sqrt(x1)\n",
      "63.199161 * x1**3*Abs(x2)\n",
      "59.872171 * x1*x2\n",
      "50.464351 * x1*exp(x2)\n",
      "-46.817379 * x1**2*x2**2\n",
      "37.435968 * x1**3*x3**2\n",
      "34.442923 * x3*log(x3)\n",
      "-28.774546 * sqrt(x1)*Abs(x2)\n",
      "-17.470340 * x3*Abs(x2)\n",
      "-13.516408 * x1*exp(x3)\n",
      "-10.462270 * x3**3*log(x1)\n",
      "9.513895 * x3**3*Abs(x2)\n",
      "7.797807 * x2**2*log(x1)\n",
      "-6.909196 * x1**3*x2**3\n",
      "5.434408 * exp(x2)*log(x1)\n",
      "-3.294897 * x3*exp(x2)\n",
      "2.956559 * x2**2*exp(x3)\n",
      "-2.834925 * x2**3*log(x1)\n",
      "-1.078876 * x2**4\n",
      "-0.726902 * x1*log(x1)\n",
      "0.647763 * x2/x1\n",
      "-0.338555 * x3**3/x1\n",
      "0.240848 * 1/x1\n",
      "-0.178650 * x2**2/x1\n",
      "0.158617 * exp(x2)*log(x3)\n",
      "[AutoFeat] Final score: 0.9485\n",
      "[AutoFeat] Computing 30 new features.\n",
      "[AutoFeat]    30/   30 new features ...done.\n",
      "## Final R^2: 0.9485\n",
      "[AutoFeat] Computing 30 new features.\n",
      "[AutoFeat]    30/   30 new features ...done.\n",
      "### AutoFeat with 3 feateng_steps\n",
      "[AutoFeat] The 3 step feature engineering process could generate up to 5271 features.\n",
      "[AutoFeat] With 1000 data points this new feature matrix would use about 0.02 gb of space.\n",
      "[feateng] Step 1: transformation of original features\n",
      "[feateng] Generated 17 transformed features from 3 original features - done.\n",
      "[feateng] Step 2: first combination of features\n",
      "[feateng] Generated 748 feature combinations from 190 original feature tuples - done.\n",
      "[feateng] Step 3: transformation of new features\n",
      "[feateng] Generated 3421 transformed features from 748 original features - done.\n",
      "[feateng] Generated altogether 4262 new features in 3 steps\n",
      "[feateng] Removing correlated features, as well as additions at the highest level\n",
      "[feateng] Generated a total of 2913 additional features\n",
      "[featsel] Scaling data...done.\n",
      "[featsel] Feature selection run 1/5\n",
      "[featsel] Feature selection run 2/5\n",
      "[featsel] Feature selection run 3/5\n",
      "[featsel] Feature selection run 4/5\n",
      "[featsel] Feature selection run 5/5\n",
      "[featsel] 8 features after 5 feature selection runs\n",
      "[featsel] 4 features after correlation filtering\n",
      "[featsel] 3 features after noise filtering\n",
      "[AutoFeat] Computing 2 new features.\n",
      "[AutoFeat]     2/    2 new features ...done.\n",
      "[AutoFeat] Final dataframe with 5 feature columns (2 new).\n",
      "[AutoFeat] Training final regression model.\n",
      "[AutoFeat] Trained model: largest coefficients:\n",
      "2.0000000000000995\n",
      "15.000000 * x1\n",
      "5.000000 * (x2 + log(x1))**3\n",
      "3.000000 * 1/(x2 - 1/x3)\n",
      "[AutoFeat] Final score: 1.0000\n",
      "[AutoFeat] Computing 2 new features.\n",
      "[AutoFeat]     2/    2 new features ...done.\n",
      "## Final R^2: 1.0000\n",
      "[AutoFeat] Computing 2 new features.\n",
      "[AutoFeat]     2/    2 new features ...done.\n",
      "### AutoFeat with 4 feateng_steps\n",
      "[AutoFeat] The 4 step feature engineering process could generate up to 128751 features.\n",
      "[AutoFeat] With 1000 data points this new feature matrix would use about 0.52 gb of space.\n",
      "[feateng] Step 1: transformation of original features\n",
      "[feateng] Generated 17 transformed features from 3 original features - done.\n",
      "[feateng] Step 2: first combination of features\n",
      "[feateng] Generated 748 feature combinations from 190 original feature tuples - done.\n",
      "[feateng] Step 3: transformation of new features\n",
      "[feateng] Generated 3421 transformed features from 748 original features - done.\n",
      "[feateng] Step 4: combining old and new features\n",
      "[feateng] Generated 78337 feature combinations from 83380 original feature tuples - done.\n",
      "[feateng] Generated altogether 82599 new features in 4 steps\n",
      "[feateng] Removing correlated features, as well as additions at the highest level\n",
      "[feateng] Generated a total of 60040 additional features\n",
      "[featsel] Scaling data...done.\n",
      "[featsel] Feature selection run 1/5\n",
      "[featsel] Feature selection run 2/5\n",
      "[featsel] Feature selection run 3/5\n",
      "[featsel] Feature selection run 4/5\n",
      "[featsel] Feature selection run 5/5\n",
      "[featsel] 25 features after 5 feature selection runs\n",
      "[featsel] 7 features after correlation filtering\n",
      "[featsel] 6 features after noise filtering\n",
      "[AutoFeat] Computing 5 new features.\n",
      "[AutoFeat]     5/    5 new features ...done.\n",
      "[AutoFeat] Final dataframe with 8 feature columns (5 new).\n",
      "[AutoFeat] Training final regression model.\n",
      "[AutoFeat] Trained model: largest coefficients:\n",
      "2.000000000010658\n",
      "15.000000 * x1\n",
      "5.000000 * (x2 + log(x1))**3\n",
      "3.000000 * 1/(x2 - 1/x3)\n",
      "[AutoFeat] Final score: 1.0000\n",
      "[AutoFeat] Computing 5 new features.\n",
      "[AutoFeat]     5/    5 new features ...done.\n",
      "## Final R^2: 1.0000\n",
      "[AutoFeat] Computing 5 new features.\n",
      "[AutoFeat]     5/    5 new features ...done.\n"
     ]
    },
    {
     "data": {
      "image/png": "[encoded data removed]",
      "text/plain": [
       "<Figure size 432x288 with 1 Axes>"
      ]
     },
     "metadata": {
      "needs_background": "light"
     },
     "output_type": "display_data"
    },
    {
     "data": {
      "image/png": "[encoded data removed]",
      "text/plain": [
       "<Figure size 432x288 with 1 Axes>"
      ]
     },
     "metadata": {
      "needs_background": "light"
     },
     "output_type": "display_data"
    },
    {
     "data": {
      "image/png": "[encoded data removed]",
      "text/plain": [
       "<Figure size 432x288 with 1 Axes>"
      ]
     },
     "metadata": {
      "needs_background": "light"
     },
     "output_type": "display_data"
    },
    {
     "data": {
      "image/png": "[encoded data removed]",
      "text/plain": [
       "<Figure size 432x288 with 1 Axes>"
      ]
     },
     "metadata": {
      "needs_background": "light"
     },
     "output_type": "display_data"
    },
    {
     "data": {
      "image/png": "[encoded data removed]",
      "text/plain": [
       "<Figure size 432x288 with 1 Axes>"
      ]
     },
     "metadata": {
      "needs_background": "light"
     },
     "output_type": "display_data"
    }
   ],
   "source": [
    "# autofeat with different number of feature engineering steps\n",
    "# 3 are perfect\n",
    "for steps in range(5):\n",
    "    np.random.seed(55)\n",
    "    print(\"### AutoFeat with %i feateng_steps\" % steps)\n",
    "    afreg = AutoFeatRegressor(verbose=1, feateng_steps=steps)\n",
    "    df = afreg.fit_transform(df_org, target)\n",
    "    r2 = afreg.score(df_org, target)\n",
    "    print(\"## Final R^2: %.4f\" % r2)\n",
    "    plt.figure()\n",
    "    plt.scatter(afreg.predict(df_org), target, s=2);\n",
    "    plt.title(\"%i FE steps (R^2: %.4f; %i new features)\" % (steps, r2, len(afreg.new_feat_cols_)))"
   ]
  },
  {
   "cell_type": "markdown",
   "metadata": {},
   "source": [
    "### AutoFeat and noise"
   ]
  },
  {
   "cell_type": "code",
   "execution_count": 5,
   "metadata": {},
   "outputs": [
    {
     "name": "stdout",
     "output_type": "stream",
     "text": [
      "[AutoFeat] The 3 step feature engineering process could generate up to 5271 features.\n",
      "[AutoFeat] With 1000 data points this new feature matrix would use about 0.02 gb of space.\n",
      "[feateng] Step 1: transformation of original features\n",
      "[feateng] Generated 17 transformed features from 3 original features - done.\n",
      "[feateng] Step 2: first combination of features\n",
      "[feateng] Generated 748 feature combinations from 190 original feature tuples - done.\n",
      "[feateng] Step 3: transformation of new features\n",
      "[feateng] Generated 3421 transformed features from 748 original features - done.\n",
      "[feateng] Generated altogether 4262 new features in 3 steps\n",
      "[feateng] Removing correlated features, as well as additions at the highest level\n",
      "[feateng] Generated a total of 2913 additional features\n",
      "[featsel] Scaling data...done.\n",
      "[featsel] Feature selection run 1/5\n",
      "[featsel] Feature selection run 2/5\n",
      "[featsel] Feature selection run 3/5\n",
      "[featsel] Feature selection run 4/5\n",
      "[featsel] Feature selection run 5/5\n",
      "[featsel] 22 features after 5 feature selection runs\n",
      "[featsel] 12 features after correlation filtering\n",
      "[featsel] 8 features after noise filtering\n",
      "[AutoFeat] Computing 7 new features.\n",
      "[AutoFeat]     7/    7 new features ...done.\n",
      "[AutoFeat] Final dataframe with 10 feature columns (7 new).\n",
      "[AutoFeat] Training final regression model.\n",
      "[AutoFeat] Trained model: largest coefficients:\n",
      "2.4459330373268386\n",
      "13.579318 * x1\n",
      "5.000397 * (x2 + log(x1))**3\n",
      "3.004462 * 1/(x2 - 1/x3)\n",
      "0.369925 * log(-x3 + exp(x1))\n",
      "0.291201 * exp(exp(x2)*log(x1))\n",
      "0.158719 * 1/(-x3**3 + 1/x1)\n",
      "0.012836 * log(x1**(7/2))\n",
      "-0.000922 * 1/(exp(x1) + log(x3))\n",
      "[AutoFeat] Final score: 0.9999\n",
      "Final R^2: 1.0000\n"
     ]
    },
    {
     "data": {
      "image/png": "[encoded data removed]",
      "text/plain": [
       "<Figure size 432x288 with 1 Axes>"
      ]
     },
     "metadata": {
      "needs_background": "light"
     },
     "output_type": "display_data"
    }
   ],
   "source": [
    "afreg = AutoFeatRegressor(verbose=1, feateng_steps=3)\n",
    "# train on noisy data\n",
    "df = afreg.fit_transform(df_org, target_noisy)\n",
    "# test on real targets\n",
    "print(\"Final R^2: %.4f\" % afreg.score(df, target))\n",
    "plt.figure()\n",
    "plt.scatter(afreg.predict(df), target, s=2);"
   ]
  },
  {
   "cell_type": "code",
   "execution_count": 6,
   "metadata": {},
   "outputs": [
    {
     "name": "stdout",
     "output_type": "stream",
     "text": [
      "[AutoFeat] The 3 step feature engineering process could generate up to 5271 features.\n",
      "[AutoFeat] With 1000 data points this new feature matrix would use about 0.02 gb of space.\n",
      "[feateng] Step 1: transformation of original features\n",
      "[feateng] Generated 17 transformed features from 3 original features - done.\n",
      "[feateng] Step 2: first combination of features\n",
      "[feateng] Generated 748 feature combinations from 190 original feature tuples - done.\n",
      "[feateng] Step 3: transformation of new features\n",
      "[feateng] Generated 3421 transformed features from 748 original features - done.\n",
      "[feateng] Generated altogether 4262 new features in 3 steps\n",
      "[feateng] Removing correlated features, as well as additions at the highest level\n",
      "[feateng] Generated a total of 2913 additional features\n",
      "[featsel] Scaling data...done.\n",
      "[featsel] Feature selection run 1/5\n",
      "[featsel] Feature selection run 2/5\n",
      "[featsel] Feature selection run 3/5\n",
      "[featsel] Feature selection run 4/5\n",
      "[featsel] Feature selection run 5/5\n",
      "[featsel] 19 features after 5 feature selection runs\n",
      "[featsel] 12 features after correlation filtering\n",
      "[featsel] 10 features after noise filtering\n",
      "[AutoFeat] Computing 9 new features.\n",
      "[AutoFeat]     9/    9 new features ...done.\n",
      "[AutoFeat] Final dataframe with 12 feature columns (9 new).\n",
      "[AutoFeat] Training final regression model.\n",
      "[AutoFeat] Trained model: largest coefficients:\n",
      "4.007104744539731\n",
      "7.825614 * x1\n",
      "4.950884 * (x2 + log(x1))**3\n",
      "2.926836 * 1/(x2 - 1/x3)\n",
      "-1.198338 * log(x3**3 - log(x1))\n",
      "-0.813393 * 1/(-exp(x2) + log(x1))\n",
      "-0.395559 * Abs(x2*log(x1))\n",
      "-0.006558 * 1/(x2*log(x3))\n",
      "0.002161 * (-x2**2 + log(x1))**3\n",
      "0.001388 * 1/(-exp(x2) + 1/x1)\n",
      "[AutoFeat] Final score: 0.9901\n",
      "Final R^2: 0.9997\n"
     ]
    },
    {
     "data": {
      "image/png": "[encoded data removed]",
      "text/plain": [
       "<Figure size 432x288 with 1 Axes>"
      ]
     },
     "metadata": {
      "needs_background": "light"
     },
     "output_type": "display_data"
    }
   ],
   "source": [
    "afreg = AutoFeatRegressor(verbose=1, feateng_steps=3)\n",
    "# train on noisy data\n",
    "df = afreg.fit_transform(df_org, target_very_noisy)\n",
    "# test on real targets\n",
    "print(\"Final R^2: %.4f\" % afreg.score(df, target))\n",
    "plt.figure()\n",
    "plt.scatter(afreg.predict(df), target, s=2);"
   ]
  },
  {
   "cell_type": "code",
   "execution_count": null,
   "metadata": {},
   "outputs": [],
   "source": []
  }
 ],
 "metadata": {
  "kernelspec": {
   "display_name": "Python 3",
   "language": "python",
   "name": "python3"
  },
  "language_info": {
   "codemirror_mode": {
    "name": "ipython",
    "version": 3
   },
   "file_extension": ".py",
   "mimetype": "text/x-python",
   "name": "python",
   "nbconvert_exporter": "python",
   "pygments_lexer": "ipython3",
   "version": "3.7.3"
  }
 },
 "nbformat": 4,
 "nbformat_minor": 2
}
