{
 "cells": [
  {
   "attachments": {},
   "cell_type": "markdown",
   "metadata": {},
   "source": [
    "# Regression Coefficients Nullspace Perspective\n",
    "This notebook contains contains edamples and visualizations of the nullspace perspective for regression in high dimensions. \n",
    "Corresponding paper: \n",
    "\n",
    "Contact: Joachim Schaeffer, joachim.schaeffer@posteo.de"
   ]
  },
  {
   "cell_type": "code",
   "execution_count": 1,
   "metadata": {},
   "outputs": [],
   "source": [
    "import sys\n",
    "import os\n",
    "\n",
    "abspath = r\"./src/\"\n",
    "sys.path.append(os.path.abspath(abspath ))\n",
    "\n",
    "import numpy as np \n",
    "import pandas as pd\n",
    "\n",
    "import matplotlib.pyplot as plt\n",
    "from sklearn.cross_decomposition import PLSRegression\n",
    "\n",
    "import random\n",
    "# Initialize the random seed to ensure reproducibility of the results in the paper\n",
    "random.seed(42)\n",
    "np.random.seed(42)\n",
    "\n",
    "# Custom functions\n",
    "from hd_data import HD_Data\n",
    "from basis_function_data import PolynomBasis, construct_data, construct_y_data\n",
    "from nullspace import Nullspace\n",
    "\n",
    "from utils import optimise_pls_cv\n",
    "from plotting_utils import plot_X\n",
    "\n",
    "%load_ext autoreload\n",
    "%autoreload 2"
   ]
  },
  {
   "cell_type": "code",
   "execution_count": 2,
   "metadata": {},
   "outputs": [],
   "source": [
    "# Varibles to set. \n",
    "# Paths are OS dependent.\n",
    "\n",
    "# Data path\n",
    "data_path = './data/'\n",
    "\n",
    "# If outlier should be removed.\n",
    "remove_outlier = False\n",
    "\n",
    "# Shall plots be saved?\n",
    "save_plots = True\n",
    "\n",
    "# Path to save plots\n",
    "if remove_outlier:\n",
    "    save_plot_path = './results/NullspaceNoOutlier/' \n",
    "else:\n",
    "    save_plot_path = './results/Nullspace/'\n",
    "    # save_plot_path = './../Nullspace/Figures/' \n",
    "\n",
    "plt.style.use('./styles/plots.mplstyle')\n",
    "\n",
    "# Plot additional visualizations.\n",
    "extra_plots = 0\n",
    "\n",
    "# Load data that was used for the publication\n",
    "# Is set to true, the data for the plots will be loaded from csv files. \n",
    "# If set to false the data will be generated and figures might differ slightly due to the random structure of the noise.\n",
    "load_data = True\n",
    "\n",
    "# If load data=False and save_data=True, the csv files will be replaced with the data genearated during this run.\n",
    "save_data = False\n"
   ]
  },
  {
   "cell_type": "code",
   "execution_count": 3,
   "metadata": {},
   "outputs": [],
   "source": [
    "# Create PLS Model objects. \n",
    "# You can also used RR or lasso or other models instead.\n",
    "\n",
    "model_PLS1 = PLSRegression(n_components=1, tol=1e-7, scale=False)\n",
    "model_PLS2 = PLSRegression(n_components=2, tol=1e-7, scale=False)\n",
    "model_PLS3 = PLSRegression(n_components=3, tol=1e-7, scale=False)\n",
    "model_PLS4 = PLSRegression(n_components=4, tol=1e-7, scale=False)\n",
    "model_PLS5 = PLSRegression(n_components=5, tol=1e-7, scale=False)\n",
    "model_PLS6 = PLSRegression(n_components=6, tol=1e-7, scale=False)\n",
    "\n",
    "models = [model_PLS1, model_PLS2, model_PLS3, model_PLS4, model_PLS5, model_PLS6]\n",
    "model_names = ['PLS 1 Comp.', 'PLS 2 Comp.', 'PLS 3 Comp.', 'PLS 4 Comp.', 'PLS 5 Comp.', 'PLS 6 Comp.']"
   ]
  },
  {
   "cell_type": "code",
   "execution_count": null,
   "metadata": {},
   "outputs": [],
   "source": [
    "# TODO:\n",
    "# Fix remaining plots!\n",
    "# Clean up R and Matlab code"
   ]
  },
  {
   "attachments": {},
   "cell_type": "markdown",
   "metadata": {},
   "source": [
    "# Example using LFP Data:\n",
    "\n",
    "published with:\n",
    "Data-driven prediction of battery cycle life before capacity degradation\n",
    "\n",
    "https://www.nature.com/articles/s41560-019-0356-8\n",
    "\n",
    "Source of data: \n",
    "https://data.matr.io/\n",
    "\n",
    "License of LFP data: lfpdatalicense.txt"
   ]
  },
  {
   "cell_type": "code",
   "execution_count": null,
   "metadata": {},
   "outputs": [],
   "source": [
    "# Load the LFP Dataset\n",
    "lfp_df = pd.read_csv(data_path + 'lfp_slim.csv', index_col=0)\n",
    "\n",
    "X_lfp = np.array(lfp_df.iloc[:, 0:1000])    \n",
    "X_lfp = X_lfp[:, ::-1]\n",
    "y_lfp_true = np.array(lfp_df.iloc[:, 1000])\n",
    "d_lfp = np.linspace(2.0, 3.5, 1000)\n",
    "\n",
    "X_lfp_train = np.array(X_lfp[lfp_df.iloc[:, 1002]==0, :])\n",
    "y_lfp_train_true = np.array(y_lfp_true[lfp_df.iloc[:, 1002]==0])\n",
    "# X_lfp_test = np.array(X_lfp[lfp_df.iloc[:, 1002]==1, :])\n",
    "# y_lfp_test_true = np.array(y_lfp_true[lfp_df.iloc[:, 1002]==1])\n",
    "# X_lfp_test2 = np.array(X_lfp[lfp_df.iloc[:, 1002]==2, :])\n",
    "# y_lfp_test2_true = np.array(y_lfp_true[lfp_df.iloc[:, 1002]==2])\n",
    "\n",
    "fig, ax = plot_X(X_lfp_train, d_lfp)\n",
    "if save_plots: \n",
    "    fig.savefig(save_plot_path + 'TrainingData.pdf') \n",
    "\n",
    "# Remove outlier \n"
   ]
  },
  {
   "cell_type": "code",
   "execution_count": null,
   "metadata": {},
   "outputs": [],
   "source": [
    "if remove_outlier:\n",
    "    id_outlier = np.where(np.mean(X_lfp_train, axis=1)==np.min(np.mean(X_lfp_train, axis=1)))\n",
    "    X_lfp_train = np.delete(X_lfp_train, id_outlier, axis=0)\n",
    "    y_lfp_train_true = np.delete(y_lfp_train_true, id_outlier, axis=0)\n",
    "\n",
    "    fig, ax = plot_X(X_lfp_train, d_lfp, ax0_title='Training Data (outlier removed)', ax1_title='Z-Scored')\n",
    "    if save_plots: \n",
    "        fig.savefig(save_plot_path + 'TrainingDataOutlierRemoved.pdf') \n",
    "\n",
    "y_lfp_train_syn = np.zeros(X_lfp_train.shape[0])\n",
    "mean_function = lambda a: np.mean(a)\n",
    "mean_reg_coef_lfp = (1/X_lfp_train.shape[1]) * np.ones(X_lfp_train.shape[1])\n",
    "\n",
    "if not load_data: \n",
    "    y_lfp_train_mean_function = construct_y_data(X_lfp_train, mean_function, per_range=[0,1])\n",
    "    data_lfp_mean = HD_Data(X=X_lfp_train, d=d_lfp, y=y_lfp_train_mean_function)\n",
    "    data_lfp_mean = data_lfp_mean.add_wgn(snr_y=50)\n",
    "\n",
    "    if save_data: \n",
    "        np.savetxt(\n",
    "            data_path + 'lfp_y_mean.csv', data_lfp_mean.y, delimiter=\",\", \n",
    "            header='Sample Mean reposne for the LFP Data')\n",
    "else:\n",
    "    y=np.loadtxt(data_path + 'lfp_y_mean.csv', skiprows=1, delimiter=',')\n",
    "    if remove_outlier: \n",
    "        y = np.delete(y, id_outlier, axis=0)\n",
    "\n",
    "    data_lfp_mean = HD_Data(X=X_lfp_train, d=d_lfp, y=y)"
   ]
  },
  {
   "cell_type": "code",
   "execution_count": null,
   "metadata": {},
   "outputs": [],
   "source": [
    "# LFP dataset synthethic y\n",
    "nulls_lfp = Nullspace(data_lfp_mean)\n",
    "nulls_lfp = nulls_lfp.learn_weights(models, model_names)\n",
    "nulls_lfp.set_standardization(std=False)"
   ]
  },
  {
   "cell_type": "code",
   "execution_count": null,
   "metadata": {},
   "outputs": [],
   "source": [
    "optimise_pls_cv(data_lfp_mean.X_, data_lfp_mean.y_, max_comps=10, plot_components=True, std=False)"
   ]
  },
  {
   "cell_type": "code",
   "execution_count": null,
   "metadata": {},
   "outputs": [],
   "source": [
    "optimise_pls_cv(data_lfp_mean.X_, data_lfp_mean.y_, max_comps=10, plot_components=True, std=True)"
   ]
  },
  {
   "cell_type": "code",
   "execution_count": null,
   "metadata": {},
   "outputs": [],
   "source": [
    "if 0:\n",
    "    nulls_lfp.set_standardization(std=True)\n",
    "    nulls_lfp.set_nullspace_weights(\n",
    "        key_alpha = 'PLS 1 Comp.', \n",
    "        w_alpha_name='PLS 1 Component', \n",
    "        w_beta = mean_reg_coef_lfp, \n",
    "        w_beta_name='Mean Weights'\n",
    "        )\n",
    "    nulls_lfp, nrmse, gamma_vals = nulls_lfp.nullspace_analysis(\n",
    "        plot_results=False, save_plot=0, opt_gamma_method='NRMSE', con_thres=0)"
   ]
  },
  {
   "cell_type": "code",
   "execution_count": null,
   "metadata": {},
   "outputs": [],
   "source": [
    "nulls_lfp.set_standardization(std=False)\n",
    "nulls_lfp.set_nullspace_weights(\n",
    "    key_alpha = 'PLS 1 Comp.', \n",
    "    w_alpha_name=r'$\\beta_{1 comp}^{PLS}$',\n",
    "    w_beta = mean_reg_coef_lfp, \n",
    "    w_beta_name=r'$\\beta^*$'\n",
    "    )\n",
    "\n",
    "nulls_lfp, fig, ax = nulls_lfp.nullspace_analysis(\n",
    "    nullspace_path = False,\n",
    "    plot_results=True, \n",
    "    save_plot=0,\n",
    "    opt_gamma_method='NRMSE',\n",
    "    con_thres=-0.5,\n",
    "    )\n",
    "    \n",
    "ax[0].set_ylabel(r'$\\Delta \\widetilde{Q}_{100-10}$')\n",
    "ax[0].set_xlabel('Voltage (V)')\n",
    "ax[1].set_xlabel('Voltage (V)')    \n",
    "ax[1].legend(loc=3)\n",
    "plt.show()\n",
    "if save_plots: \n",
    "    fig.savefig(save_plot_path + 'LFP_example_PLS_mean.pdf') \n",
    "\n",
    "# Check how these predicitons get in there...\n",
    "nulls_lfp.scatter_predictions()"
   ]
  },
  {
   "cell_type": "code",
   "execution_count": null,
   "metadata": {},
   "outputs": [],
   "source": [
    "nulls_lfp, fig, ax = nulls_lfp.nullspace_analysis(\n",
    "    plot_results=True, save_plot=0, opt_gamma_method='NRMSE', con_thres=0.08)\n",
    "    \n",
    "ax[0].set_ylabel(r'$\\Delta \\widetilde{Q}_{100-10}$')\n",
    "ax[0].set_xlabel('Voltage (V)')\n",
    "ax[1].set_xlabel('Voltage (V)')    \n",
    "ax[1].legend(loc=3)\n",
    "plt.show()\n",
    "if save_plots: \n",
    "    fig.savefig(save_plot_path + 'LFP_example_PLS_mean_.pdf') \n",
    "\n",
    "nulls_lfp.scatter_predictions()"
   ]
  },
  {
   "cell_type": "code",
   "execution_count": null,
   "metadata": {},
   "outputs": [],
   "source": [
    "nulls_lfp.set_nullspace_weights(\n",
    "    key_alpha = 'PLS 3 Comp.', \n",
    "    w_alpha_name='PLS 3 Components', \n",
    "    w_beta = mean_reg_coef_lfp, \n",
    "    w_beta_name='Mean Weights'\n",
    "    )\n",
    "\n",
    "nulls_lfp, fig, ax = nulls_lfp.nullspace_analysis(\n",
    "    plot_results=True, save_plot=0, opt_gamma_method='NRMSE', con_thres=0.01)\n",
    "\n",
    "\n",
    "ax[0].set_ylabel(r'$\\Delta \\widetilde{Q}_{100-10}$')\n",
    "ax[0].set_xlabel('Voltage (V)')\n",
    "ax[1].set_xlabel('Voltage (V)')    \n",
    "ax[1].legend(loc=3)\n",
    "plt.show()\n",
    "if save_plots: \n",
    "    fig.savefig(save_plot_path + 'LFP_example_3PLS_mean.pdf')\n",
    "\n",
    "nulls_lfp.scatter_predictions()"
   ]
  },
  {
   "cell_type": "code",
   "execution_count": null,
   "metadata": {},
   "outputs": [],
   "source": [
    "plt.scatter(nulls_lfp.X@mean_reg_coef_lfp, nulls_lfp.X@nulls_lfp.weights['PLS 1 Comp.']+nulls_lfp.X@nulls_lfp.nullsp['v_'][-1, :])"
   ]
  },
  {
   "cell_type": "code",
   "execution_count": null,
   "metadata": {},
   "outputs": [],
   "source": [
    "nulls_lfp.set_standardization(std=True)\n",
    "nulls_lfp.set_nullspace_weights(\n",
    "    key_alpha = 'PLS 1 Comp.', \n",
    "    w_alpha_name='PLS 1 Component', \n",
    "    w_beta = mean_reg_coef_lfp, \n",
    "    w_beta_name='Mean Weights'\n",
    "    )\n",
    "nulls_lfp, fig, ax = nulls_lfp.nullspace_analysis(\n",
    "    plot_results=True, save_plot=0, opt_gamma_method='NRMSE', con_thres=-0.01)\n",
    "\n",
    "ax[0].set_ylabel(r'$\\Delta \\widetilde{Q}_{100-10}$')\n",
    "ax[0].set_xlabel('Voltage (V)')\n",
    "ax[1].set_xlabel('Voltage (V)')    \n",
    "ax[1].legend(loc=3)\n",
    "\n",
    "plt.show()\n",
    "if save_plots: \n",
    "    fig.savefig(save_plot_path + 'LFP_example_std_1PLS_mean.pdf')\n",
    "\n",
    "nulls_lfp.scatter_predictions()"
   ]
  },
  {
   "attachments": {},
   "cell_type": "markdown",
   "metadata": {},
   "source": [
    "NRMSE constraint threshold:  0.23504462641804486\n",
    "\n",
    "Optimization took 13.79 seconds\n",
    "\n",
    "Optimization depth: 29, max depth: 30\n",
    "\n",
    "Gamma value corresponding to 2.4e-01 % is 0.0022146719233808324\n",
    "\n",
    "Constraint value: 0.235\n",
    "\n",
    "1.0000111207011153e-07\n",
    "\n",
    "Scipy Optimization took 13.31 seconds\n",
    "\n",
    "Constraint value: 0.235044725570, Method NRMSE\n"
   ]
  },
  {
   "cell_type": "code",
   "execution_count": null,
   "metadata": {},
   "outputs": [],
   "source": [
    "nulls_lfp.set_nullspace_weights(\n",
    "    key_alpha = 'PLS 2 Comp.', \n",
    "    w_alpha_name='PLS 2 Components', \n",
    "    w_beta = mean_reg_coef_lfp, \n",
    "    w_beta_name='Mean Weights'\n",
    "    )\n",
    "\n",
    "nulls_lfp, fig, ax = nulls_lfp.nullspace_analysis(\n",
    "    plot_results=True, save_plot=0, opt_gamma_method='NRMSE', con_thres=-0.5)\n",
    "\n",
    "ax[0].set_ylabel(r'$\\Delta \\widetilde{Q}_{100-10}$')\n",
    "ax[0].set_xlabel('Voltage (V)')\n",
    "ax[1].set_xlabel('Voltage (V)')    \n",
    "ax[1].legend(loc=3)\n",
    "\n",
    "plt.show()\n",
    "if save_plots: \n",
    "    fig.savefig(save_plot_path + 'LFP_example_std_3PLS_mean.pdf')\n",
    "\n",
    "nulls_lfp.scatter_predictions()"
   ]
  },
  {
   "cell_type": "code",
   "execution_count": null,
   "metadata": {},
   "outputs": [],
   "source": [
    "nulls_lfp.set_nullspace_weights(\n",
    "    key_alpha = 'PLS 4 Comp.', \n",
    "    w_alpha_name='PLS 4 Components', \n",
    "    w_beta = mean_reg_coef_lfp, \n",
    "    w_beta_name='Mean Weights'\n",
    "    )\n",
    "\n",
    "nulls_lfp, fig, ax = nulls_lfp.nullspace_analysis(\n",
    "    plot_results=True, save_plot=0, opt_gamma_method='NRMSE', con_thres=0.0005)\n",
    "\n",
    "ax[0].set_ylabel(r'$\\Delta \\widetilde{Q}_{100-10}$')\n",
    "ax[1].set_xlabel('Voltage (V)')   \n",
    "ax[1].legend(loc=3)\n",
    "plt.show()\n",
    "if save_plots: \n",
    "    fig.savefig(save_plot_path + 'LFP_example_std_4PLS_mean.pdf')\n",
    "\n",
    "\n",
    "nulls_lfp.scatter_predictions()"
   ]
  },
  {
   "cell_type": "code",
   "execution_count": null,
   "metadata": {},
   "outputs": [],
   "source": [
    "if 1:\n",
    "    plt.plot(nulls_lfp.data.d, nulls_lfp.weights['PLS 1 Comp. std'], label='PLS1, X_std')\n",
    "    plt.plot(nulls_lfp.data.d, mean_reg_coef_lfp*nulls_lfp.data.stdx, label='Mean weights*std')\n",
    "    plt.ylabel('Voltage (V)')\n",
    "    plt.xlabel('Regression Coefficients')\n",
    "    plt.legend()\n",
    "    plt.show()"
   ]
  },
  {
   "attachments": {},
   "cell_type": "markdown",
   "metadata": {},
   "source": [
    "### Colum mean weights"
   ]
  },
  {
   "cell_type": "code",
   "execution_count": null,
   "metadata": {},
   "outputs": [],
   "source": [
    "# Contruct data object\n",
    "# data LFP Synthethic YTrue repsonse is X@column_mean \n",
    "\n",
    "rcoef_lfp_cm =  np.mean(X_lfp_train, axis=0)\n",
    "\n",
    "if not load_data: \n",
    "    y_lfps_train_cm = np.dot(X_lfp_train, rcoef_lfp_cm)\n",
    "\n",
    "    dml_lfps_cm = HD_Data(X=X_lfp_train, d=d_lfp, y=y_lfps_train_cm)\n",
    "    # Add noise to target values\n",
    "    dml_lfps_cm = dml_lfps_cm.add_wgn(snr_y=50)\n",
    "    if save_data: \n",
    "        np.savetxt(\n",
    "            data_path + 'lfp_y_cm.csv', dml_lfps_cm.y, delimiter=',', \n",
    "            header='Column Mean response for the LFP Data')\n",
    "else:\n",
    "    y=np.loadtxt(data_path + 'lfp_y_cm.csv', skiprows=1, delimiter=',')\n",
    "    if remove_outlier: \n",
    "        y = np.delete(y, id_outlier, axis=0)\n",
    "    dml_lfps_cm = HD_Data(X=X_lfp_train, d=d_lfp, y=y)\n",
    "\n",
    "nulls_lfp_cm = Nullspace(dml_lfps_cm)\n",
    "nulls_lfp_cm = nulls_lfp_cm.learn_weights(models, model_names)"
   ]
  },
  {
   "cell_type": "code",
   "execution_count": null,
   "metadata": {},
   "outputs": [],
   "source": [
    "optimise_pls_cv(dml_lfps_cm.X_, dml_lfps_cm.y_, max_comps=10, plot_components=True, std=False)"
   ]
  },
  {
   "cell_type": "code",
   "execution_count": null,
   "metadata": {},
   "outputs": [],
   "source": [
    "optimise_pls_cv(dml_lfps_cm.X_, dml_lfps_cm.y_, max_comps=10, plot_components=True, std=True)"
   ]
  },
  {
   "cell_type": "code",
   "execution_count": null,
   "metadata": {},
   "outputs": [],
   "source": [
    "nulls_lfp_cm.set_standardization(std=False)\n",
    "nulls_lfp_cm.set_nullspace_weights(\n",
    "    key_alpha = 'PLS 2 Comp.', \n",
    "    w_alpha_name='PLS 2 Components', \n",
    "    w_beta = rcoef_lfp_cm, \n",
    "    w_beta_name='Column Mean Weights'\n",
    "    )\n",
    "nulls_lfp_cm, fig, ax = nulls_lfp_cm.nullspace_analysis(\n",
    "    plot_results=True, save_plot=0, opt_gamma_method='NRMSE', con_thres=-0.5)\n",
    "    \n",
    "ax[0].set_ylabel(r'$\\Delta \\widetilde{Q}_{100-10}$')\n",
    "ax[1].set_xlabel('Voltage (V)')    \n",
    "\n",
    "plt.show()\n",
    "if save_plots: \n",
    "    fig.savefig(save_plot_path + 'LFP_2PLS_cm.pdf')\n",
    "\n",
    "\n",
    "nulls_lfp_cm.scatter_predictions()"
   ]
  },
  {
   "cell_type": "code",
   "execution_count": null,
   "metadata": {},
   "outputs": [],
   "source": [
    "nulls_lfp_cm.set_standardization(std=False)\n",
    "nulls_lfp_cm.set_nullspace_weights(\n",
    "    key_alpha = 'PLS 3 Comp.', \n",
    "    w_alpha_name='PLS 3 Components', \n",
    "    w_beta = rcoef_lfp_cm, \n",
    "    w_beta_name='Column Mean Weights'\n",
    "    )\n",
    "\n",
    "nulls_lfp_cm, fig, ax = nulls_lfp_cm.nullspace_analysis(\n",
    "    plot_results=True, save_plot=0, opt_gamma_method='NRMSE', con_thres=-0.5)\n",
    "    \n",
    "ax[0].set_ylabel(r'$\\Delta \\widetilde{Q}_{100-10}$')\n",
    "ax[1].set_xlabel('Voltage (V)')    \n",
    "\n",
    "plt.show()\n",
    "if save_plots: \n",
    "    fig.savefig(save_plot_path + 'LFP_3PLS_cm.pdf')\n",
    "\n",
    "\n",
    "nulls_lfp_cm.scatter_predictions()"
   ]
  },
  {
   "cell_type": "code",
   "execution_count": null,
   "metadata": {},
   "outputs": [],
   "source": [
    "nulls_lfp_cm.set_standardization(std=True)\n",
    "nulls_lfp_cm.set_nullspace_weights(\n",
    "    key_alpha = 'PLS 5 Comp.', \n",
    "    w_alpha_name='PLS 5 Components', \n",
    "    w_beta = rcoef_lfp_cm, \n",
    "    w_beta_name='Column Mean Weights'\n",
    "    )\n",
    "\n",
    "nulls_lfp_cm, fig, ax = nulls_lfp_cm.nullspace_analysis(\n",
    "    plot_results=True, save_plot=0, opt_gamma_method='NRMSE', con_thres=-0.5)\n",
    "    \n",
    "ax[0].set_ylabel(r'$\\Delta \\widetilde{Q}_{100-10}$')\n",
    "ax[1].set_xlabel('Voltage (V)')    \n",
    "plt.show()\n",
    "if save_plots: \n",
    "    fig.savefig(save_plot_path + 'LFP_5PLS_cm_std.pdf')\n",
    "\n",
    "\n",
    "nulls_lfp_cm.scatter_predictions()"
   ]
  },
  {
   "cell_type": "code",
   "execution_count": null,
   "metadata": {},
   "outputs": [],
   "source": [
    "range_y_cm = np.max(nulls_lfp_cm.data.y_)-np.min(nulls_lfp_cm.data.y_)"
   ]
  },
  {
   "cell_type": "code",
   "execution_count": null,
   "metadata": {},
   "outputs": [],
   "source": [
    "range_y_cm"
   ]
  },
  {
   "cell_type": "code",
   "execution_count": null,
   "metadata": {},
   "outputs": [],
   "source": [
    "plt.plot(nulls_lfp_cm.data.d, nulls_lfp_cm.nullsp['w_alpha_std']+nulls_lfp_cm.nullsp['v_'][-1, :])\n",
    "plt.plot(nulls_lfp_cm.data.d, nulls_lfp_cm.nullsp['w_beta_std'])\n",
    "\n",
    "# calucleate NRMSE\n",
    "from sklearn.metrics import mean_squared_error\n",
    "range_y_cm = np.max(nulls_lfp_cm.data.y_)-np.min(nulls_lfp_cm.data.y_)\n",
    "print(100*mean_squared_error(nulls_lfp_cm.data.y_, nulls_lfp_cm.data.X_std@(nulls_lfp_cm.nullsp['w_alpha_std']+nulls_lfp_cm.nullsp['v_'][-1, :]), squared=False)/range_y_cm)\n",
    "print(100*mean_squared_error(nulls_lfp_cm.data.y_, nulls_lfp_cm.data.X_std@(nulls_lfp_cm.nullsp['w_beta_std']), squared=False)/range_y_cm)\n",
    "print(100*mean_squared_error(nulls_lfp_cm.data.y_, nulls_lfp_cm.data.X_std@(nulls_lfp_cm.nullsp['w_alpha_std']), squared=False)/range_y_cm)"
   ]
  },
  {
   "cell_type": "code",
   "execution_count": null,
   "metadata": {},
   "outputs": [],
   "source": [
    "plt.plot(nulls_lfp_cm.data.d, nulls_lfp_cm.weights['PLS 5 Comp. std'], label='PLS5, X_std')\n",
    "plt.plot(nulls_lfp_cm.data.d, rcoef_lfp_cm*nulls_lfp_cm.data.stdx, label='Column Mean weights*std')\n",
    "plt.plot(nulls_lfp_cm.data.d, rcoef_lfp_cm*nulls_lfp_cm.data.stdx - nulls_lfp_cm.nullsp['v_'][-1, :].reshape(-1), label='Column Mean weights*std')\n",
    "# plt.plot(nulls_lfp_cm.data.d, nulls_lfp_cm.nullsp['w_alpha'], label='')"
   ]
  },
  {
   "cell_type": "code",
   "execution_count": null,
   "metadata": {},
   "outputs": [],
   "source": [
    "nulls_lfp_cm.set_standardization(std=True)\n",
    "nulls_lfp_cm.set_nullspace_weights(\n",
    "    key_alpha = 'PLS 6 Comp.', \n",
    "    w_alpha_name='PLS 6 Components', \n",
    "    w_beta = rcoef_lfp_cm, \n",
    "    w_beta_name='Column Mean Weights'\n",
    "    )\n",
    "\n",
    "nulls_lfp_cm, fig, ax = nulls_lfp_cm.nullspace_analysis(\n",
    "    plot_results=True, save_plot=0, opt_gamma_method='NRMSE', con_thres=-0.5)\n",
    "    \n",
    "ax[0].set_ylabel(r'$\\Delta \\widetilde{Q}_{100-10}$')\n",
    "ax[1].set_xlabel('Voltage (V)')    \n",
    "plt.show()\n",
    "if save_plots: \n",
    "    fig.savefig(save_plot_path + 'LFP_6PLS_cm_std.pdf')\n",
    "\n",
    "\n",
    "nulls_lfp_cm.scatter_predictions()"
   ]
  },
  {
   "cell_type": "code",
   "execution_count": null,
   "metadata": {},
   "outputs": [],
   "source": [
    "nulls_lfp_cm, fig, ax = nulls_lfp_cm.nullspace_analysis(\n",
    "    plot_results=True, save_plot=0,  opt_gamma_method='NRMSE', con_thres=-0.99)\n",
    "\n",
    "nulls_lfp_cm.scatter_predictions()"
   ]
  },
  {
   "cell_type": "code",
   "execution_count": null,
   "metadata": {},
   "outputs": [],
   "source": []
  }
 ],
 "metadata": {
  "interpreter": {
   "hash": "8056bf4462fd49b8d96cd55dea3fe35c7f0f28ae33993735e755540e55953e1c"
  },
  "kernelspec": {
   "display_name": "Python 3 (ipykernel)",
   "language": "python",
   "name": "python3"
  },
  "language_info": {
   "codemirror_mode": {
    "name": "ipython",
    "version": 3
   },
   "file_extension": ".py",
   "mimetype": "text/x-python",
   "name": "python",
   "nbconvert_exporter": "python",
   "pygments_lexer": "ipython3",
   "version": "3.10.0"
  }
 },
 "nbformat": 4,
 "nbformat_minor": 4
}
